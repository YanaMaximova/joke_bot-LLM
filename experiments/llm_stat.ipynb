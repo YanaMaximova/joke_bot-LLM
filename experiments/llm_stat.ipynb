{
 "cells": [
  {
   "cell_type": "code",
   "execution_count": 105,
   "metadata": {
    "_cell_guid": "b1076dfc-b9ad-4769-8c92-a6c4dae69d19",
    "_uuid": "8f2839f25d086af736a60e9eeb907d3b93b6e0e5",
    "execution": {
     "iopub.execute_input": "2024-03-19T18:42:35.450188Z",
     "iopub.status.busy": "2024-03-19T18:42:35.449674Z",
     "iopub.status.idle": "2024-03-19T18:42:35.465901Z",
     "shell.execute_reply": "2024-03-19T18:42:35.464812Z",
     "shell.execute_reply.started": "2024-03-19T18:42:35.450150Z"
    },
    "trusted": true
   },
   "outputs": [
    {
     "name": "stdout",
     "output_type": "stream",
     "text": [
      "/kaggle/input/russian-jokes/jokes.csv\n",
      "/kaggle/input/vk-anekdots/anekdots_result.csv\n"
     ]
    }
   ],
   "source": [
    "import numpy as np \n",
    "import pandas as pd \n",
    "import re\n",
    "import pickle \n",
    "from itertools import chain\n",
    "from datetime import datetime\n",
    "from collections import defaultdict\n",
    "\n",
    "from typing import List, Dict, Optional, Iterable, Tuple\n",
    "\n",
    "from tqdm.notebook import tqdm\n",
    "import numpy as np\n",
    "import pandas as pd\n",
    "from datasets import load_dataset\n",
    "from sklearn.metrics.pairwise import cosine_similarity\n",
    "from sklearn.feature_extraction.text import CountVectorizer, TfidfVectorizer\n",
    "import matplotlib.pyplot as plt\n",
    "import seaborn as sns\n",
    "import string\n",
    "\n",
    "\n",
    "import os\n",
    "for dirname, _, filenames in os.walk('/kaggle/input'):\n",
    "    for filename in filenames:\n",
    "        print(os.path.join(dirname, filename))"
   ]
  },
  {
   "cell_type": "code",
   "execution_count": null,
   "metadata": {
    "execution": {
     "iopub.execute_input": "2024-03-19T18:40:05.630673Z",
     "iopub.status.busy": "2024-03-19T18:40:05.629561Z",
     "iopub.status.idle": "2024-03-19T18:40:05.654618Z",
     "shell.execute_reply": "2024-03-19T18:40:05.653334Z",
     "shell.execute_reply.started": "2024-03-19T18:40:05.630621Z"
    },
    "trusted": true
   },
   "outputs": [],
   "source": [
    "class Tokenizer:\n",
    "    def __init__(self,\n",
    "                 token_pattern: str = '\\w+|[\\!\\?\\,\\.\\-\\:]',\n",
    "                 eos_token: str = '<EOS>',\n",
    "                 pad_token: str = '<PAD>',\n",
    "                 unk_token: str = '<UNK>'):\n",
    "        self.token_pattern = token_pattern\n",
    "        self.eos_token = eos_token\n",
    "        self.pad_token = pad_token\n",
    "        self.unk_token = unk_token\n",
    "        \n",
    "        self.special_tokens = [self.eos_token, self.pad_token, self.unk_token]\n",
    "        self.vocab = None\n",
    "        self.inverse_vocab = None\n",
    "    \n",
    "    def text_preprocess(self, input_text: str) -> str:\n",
    "        \"\"\" Предобрабатываем один текст \"\"\"\n",
    "        input_text = input_text.lower()\n",
    "        input_text = re.sub(r'\\s+', ' ', input_text) \n",
    "        input_text = input_text.strip()\n",
    "        return input_text\n",
    "    \n",
    "    def build_vocab(self, corpus: List[str]) -> None:\n",
    "        assert len(corpus)\n",
    "        all_tokens = set()\n",
    "        for text in corpus:\n",
    "            all_tokens |= set(self._tokenize(text, append_eos_token=False))\n",
    "        self.vocab = {elem: ind for ind, elem in enumerate(all_tokens)}\n",
    "        special_tokens = [self.eos_token, self.unk_token, self.pad_token]\n",
    "        for token in special_tokens:\n",
    "            self.vocab[token] = len(self.vocab)\n",
    "        self.inverse_vocab = {ind: elem for elem, ind in self.vocab.items()}\n",
    "        return self\n",
    "        \n",
    "    def _tokenize(self, text: str, append_eos_token: bool = True) -> List[str]:\n",
    "        text = self.text_preprocess(text)\n",
    "        tokens = re.findall(self.token_pattern, text)\n",
    "        if append_eos_token:\n",
    "            tokens.append(self.eos_token)\n",
    "        return tokens\n",
    "    \n",
    "    def encode(self, text: str, append_eos_token: bool = True) -> List[str]:\n",
    "        \"\"\" Токенизируем текст \"\"\"\n",
    "        tokens = self._tokenize(text, append_eos_token)\n",
    "        ids = [self.vocab.get(token, self.vocab[self.unk_token]) for token in tokens]\n",
    "        return ids\n",
    "    \n",
    "    def decode(self, input_ids: Iterable[int], remove_special_tokens: bool = False) -> str:\n",
    "        assert len(input_ids)\n",
    "        assert max(input_ids) < len(self.vocab) and min(input_ids) >= 0\n",
    "        tokens = []\n",
    "        for ind in input_ids:\n",
    "            token = self.inverse_vocab[ind]\n",
    "            if remove_special_tokens and token in self.special_tokens:\n",
    "                continue\n",
    "            tokens.append(token)\n",
    "        text = ' '.join( tokens )\n",
    "        return text\n",
    "    \n",
    "    def save(self, path: str) -> bool:\n",
    "        data = {\n",
    "            'token_pattern': self.token_pattern,\n",
    "            'eos_token': self.eos_token,\n",
    "            'pad_token': self.pad_token,\n",
    "            'unk_token': self.unk_token,\n",
    "            'special_tokens': self.special_tokens,\n",
    "            'vocab': self.vocab,\n",
    "            'inverse_vocab': self.inverse_vocab,\n",
    "        }\n",
    "        \n",
    "        with open(path, 'wb') as fout:\n",
    "            pickle.dump(data, fout)\n",
    "            \n",
    "        return True\n",
    "        \n",
    "    def load(self, path: str) -> bool:\n",
    "        with open(path, 'rb') as fin:\n",
    "            data = pickle.load(fin)\n",
    "            \n",
    "        self.token_pattern = data['token_pattern']\n",
    "        self.eos_token = data['eos_token']\n",
    "        self.pad_token = data['pad_token']\n",
    "        self.unk_token = data['unk_token']\n",
    "        self.special_tokens = data['special_tokens']\n",
    "        self.vocab = data['vocab']\n",
    "        self.inverse_vocab = data['inverse_vocab']\n"
   ]
  },
  {
   "cell_type": "code",
   "execution_count": 88,
   "metadata": {
    "execution": {
     "iopub.execute_input": "2024-03-19T18:40:05.656505Z",
     "iopub.status.busy": "2024-03-19T18:40:05.656111Z",
     "iopub.status.idle": "2024-03-19T18:40:05.675672Z",
     "shell.execute_reply": "2024-03-19T18:40:05.674098Z",
     "shell.execute_reply.started": "2024-03-19T18:40:05.656475Z"
    },
    "trusted": true
   },
   "outputs": [],
   "source": [
    "class GenerationConfig:\n",
    "    def __init__(self, **kwargs):\n",
    "        \"\"\"\n",
    "        Тут можно задать любые параметры и их значения по умолчанию\n",
    "        Значения для стратегии декодирования decoding_strategy: ['max', 'top-p']\n",
    "        \"\"\"\n",
    "        self.temperature = kwargs.pop(\"temperature\", 1.0)\n",
    "        self.max_tokens = kwargs.pop(\"max_tokens\", 32)\n",
    "        self.sample_top_p = kwargs.pop(\"sample_top_p\", 0.9)\n",
    "        self.decoding_strategy = kwargs.pop(\"decoding_strategy\", 'max')\n",
    "        self.remove_special_tokens = kwargs.pop(\"remove_special_tokens\", False)\n",
    "        self.validate()\n",
    "        \n",
    "    def validate(self):\n",
    "        \"\"\" Здесь можно валидировать параметры \"\"\"\n",
    "        if not (1.0 > self.sample_top_p > 0):\n",
    "            raise ValueError('sample_top_p')\n",
    "        if self.decoding_strategy not in ['max', 'top-p']:\n",
    "            raise ValueError('decoding_strategy')"
   ]
  },
  {
   "cell_type": "code",
   "execution_count": null,
   "metadata": {
    "execution": {
     "iopub.execute_input": "2024-03-19T18:40:05.742853Z",
     "iopub.status.busy": "2024-03-19T18:40:05.741886Z",
     "iopub.status.idle": "2024-03-19T18:40:05.777340Z",
     "shell.execute_reply": "2024-03-19T18:40:05.776073Z",
     "shell.execute_reply.started": "2024-03-19T18:40:05.742815Z"
    },
    "trusted": true
   },
   "outputs": [],
   "source": [
    "class StatLM:\n",
    "    def __init__(self, \n",
    "                 tokenizer: Tokenizer,\n",
    "                 context_size: int = 2,\n",
    "                 alpha: float = 0.1\n",
    "                ):\n",
    "        \n",
    "        assert context_size >= 2\n",
    "        \n",
    "        self.context_size = context_size\n",
    "        self.tokenizer = tokenizer\n",
    "        self.alpha = alpha\n",
    "        \n",
    "        self.n_gramms_stat = defaultdict(int)\n",
    "        self.nx_gramms_stat = defaultdict(int)\n",
    "        \n",
    "    def get_token_by_ind(ind: int) -> str:\n",
    "        return self.tokenizer.vocab.get(ind)\n",
    "    \n",
    "    def get_ind_by_token(token: str) -> int:\n",
    "        return self.tokenizer.inverse_vocab.get(token, self.tokenizer.inverse_vocab[self.unk_token])\n",
    "        \n",
    "    def train(self, train_texts: List[str]):\n",
    "        for sentence in tqdm(train_texts, desc='train lines'):\n",
    "            sentence_ind = self.tokenizer.encode(sentence)\n",
    "            for i in range(len(sentence_ind) - self.context_size):\n",
    "                \n",
    "                seq = tuple(sentence_ind[i: i + self.context_size - 1])\n",
    "                self.n_gramms_stat[seq] += 1\n",
    "                \n",
    "                seq_x = tuple(sentence_ind[i: i + self.context_size])\n",
    "                self.nx_gramms_stat[seq_x] += 1\n",
    "                \n",
    "            seq = tuple(sentence_ind[len(sentence_ind) - self.context_size:])\n",
    "            self.n_gramms_stat[seq] += 1\n",
    "            \n",
    "    def sample_token(self, \n",
    "                     token_distribution: np.ndarray,\n",
    "                     generation_config: GenerationConfig) -> int:\n",
    "        if generation_config.decoding_strategy == 'max':\n",
    "            return token_distribution.argmax()\n",
    "        elif generation_config.decoding_strategy == 'top-p':\n",
    "            token_distribution = sorted(list(zip(token_distribution, np.arange(len(token_distribution)))),\n",
    "                                        reverse=True)\n",
    "            total_proba = 0.0\n",
    "            tokens_to_sample = []\n",
    "            tokens_probas = []\n",
    "            for token_proba, ind in token_distribution:\n",
    "                tokens_to_sample.append(ind)\n",
    "                tokens_probas.append(token_proba)\n",
    "                total_proba += token_proba\n",
    "                if total_proba >= generation_config.sample_top_p:\n",
    "                    break\n",
    "\n",
    "            tokens_probas = np.array(tokens_probas) / generation_config.temperature\n",
    "            tokens_probas = tokens_probas / tokens_probas.sum()\n",
    "            return np.random.choice(tokens_to_sample, p=tokens_probas)\n",
    "        else:\n",
    "            raise ValueError(f'Unknown decoding strategy: {generation_config.decoding_strategy}')\n",
    "            \n",
    "    def save_stat(self, path: str) -> bool:\n",
    "        stat = {\n",
    "            'n_gramms_stat': self.n_gramms_stat,\n",
    "            'nx_gramms_stat': self.nx_gramms_stat,\n",
    "            'context_size': self.context_size,\n",
    "            'alpha': self.alpha\n",
    "        }\n",
    "        with open(path, 'wb') as fout:\n",
    "            pickle.dump(stat, fout)\n",
    "            \n",
    "        return True\n",
    "    \n",
    "    def load_stat(self, path: str) -> bool:\n",
    "        with open(path, 'rb') as fin:\n",
    "            stat = pickle.load(fin)\n",
    "            \n",
    "        self.n_gramms_stat = stat['n_gramms_stat']\n",
    "        self.nx_gramms_stat = stat['nx_gramms_stat']\n",
    "        self.context_size = stat['context_size']\n",
    "        self.alpha = stat['alpha']\n",
    "            \n",
    "        return True\n",
    "        \n",
    "    def get_stat(self) -> Dict[str, Dict]:\n",
    "        \n",
    "        n_token_stat, nx_token_stat = {}, {}\n",
    "        for token_inds, count in self.n_gramms_stat.items():\n",
    "            n_token_stat[self.tokenizer.decode(token_inds)] = count\n",
    "        \n",
    "        for token_inds, count in self.nx_gramms_stat.items():\n",
    "            nx_token_stat[self.tokenizer.decode(token_inds)] = count\n",
    "        \n",
    "        return {\n",
    "            'n gramms stat': self.n_gramms_stat,\n",
    "            'n+1 gramms stat': self.nx_gramms_stat,\n",
    "            'n tokens stat': n_token_stat,\n",
    "            'n+1 tokens stat': nx_token_stat,\n",
    "        }\n",
    "    \n",
    "    def _get_next_token(self, \n",
    "                        tokens: List[int],\n",
    "                        generation_config: GenerationConfig) -> (int, str):\n",
    "        denominator = self.n_gramms_stat.get(tuple(tokens), 0) + self.alpha * len(self.tokenizer.vocab)\n",
    "        numerators = []\n",
    "        for ind in self.tokenizer.inverse_vocab:\n",
    "            numerators.append(self.nx_gramms_stat.get(tuple(tokens + [ind]), 0) + self.alpha)\n",
    "        \n",
    "        token_distribution = np.array(numerators) / denominator\n",
    "        max_proba_ind = self.sample_token(token_distribution, generation_config)\n",
    "        \n",
    "        next_token = self.tokenizer.inverse_vocab[max_proba_ind]\n",
    "        \n",
    "        return max_proba_ind, next_token\n",
    "            \n",
    "    def generate_token(self, \n",
    "                       text: str, \n",
    "                       generation_config: GenerationConfig\n",
    "                      ) -> Dict:\n",
    "        tokens = self.tokenizer.encode(text, append_eos_token=False)\n",
    "        tokens = tokens[-self.context_size + 1:]\n",
    "        \n",
    "        max_proba_ind, next_token = self._get_next_token(tokens, generation_config)\n",
    "        \n",
    "        return {\n",
    "            'next_token': next_token,\n",
    "            'next_token_num': max_proba_ind,\n",
    "        }\n",
    "    \n",
    "    \n",
    "    def generate_text(self, text: str, \n",
    "                      generation_config: GenerationConfig\n",
    "                     ) -> Dict:\n",
    "        \n",
    "        all_tokens = self.tokenizer.encode(text, append_eos_token=False)\n",
    "        tokens = all_tokens[-self.context_size + 1:]\n",
    "        \n",
    "        next_token = None\n",
    "        while next_token != self.tokenizer.eos_token and len(all_tokens) < generation_config.max_tokens:\n",
    "            max_proba_ind, next_token = self._get_next_token(tokens, generation_config)\n",
    "            all_tokens.append(max_proba_ind)\n",
    "            tokens = all_tokens[-self.context_size + 1:]\n",
    "        \n",
    "        new_text = self.tokenizer.decode(all_tokens, generation_config.remove_special_tokens)\n",
    "        \n",
    "        finish_reason = 'max tokens'\n",
    "        if all_tokens[-1] == self.tokenizer.vocab[self.tokenizer.eos_token]:\n",
    "            finish_reason = 'end of text'\n",
    "        \n",
    "        return {\n",
    "            'all_tokens': all_tokens,\n",
    "            'total_text': new_text,\n",
    "            'finish_reason': finish_reason\n",
    "        }\n",
    "    \n",
    "    def generate(self, text: str, generation_config: Dict) -> str:\n",
    "        return self.generate_text(text, generation_config)['total_text']"
   ]
  },
  {
   "cell_type": "code",
   "execution_count": 90,
   "metadata": {
    "execution": {
     "iopub.execute_input": "2024-03-19T18:40:05.780134Z",
     "iopub.status.busy": "2024-03-19T18:40:05.779794Z",
     "iopub.status.idle": "2024-03-19T18:40:06.787433Z",
     "shell.execute_reply": "2024-03-19T18:40:06.785908Z",
     "shell.execute_reply.started": "2024-03-19T18:40:05.780108Z"
    },
    "trusted": true
   },
   "outputs": [
    {
     "data": {
      "text/plain": [
       "130204"
      ]
     },
     "execution_count": 90,
     "metadata": {},
     "output_type": "execute_result"
    }
   ],
   "source": [
    "texts = pd.read_csv('../input/russian-jokes/jokes.csv')['text']\n",
    "len(texts)"
   ]
  },
  {
   "cell_type": "code",
   "execution_count": 91,
   "metadata": {
    "execution": {
     "iopub.execute_input": "2024-03-19T18:40:06.789566Z",
     "iopub.status.busy": "2024-03-19T18:40:06.789110Z",
     "iopub.status.idle": "2024-03-19T18:40:09.643930Z",
     "shell.execute_reply": "2024-03-19T18:40:09.642810Z",
     "shell.execute_reply.started": "2024-03-19T18:40:06.789529Z"
    },
    "trusted": true
   },
   "outputs": [
    {
     "data": {
      "text/plain": [
       "233683"
      ]
     },
     "execution_count": 91,
     "metadata": {},
     "output_type": "execute_result"
    }
   ],
   "source": [
    "added_texts = pd.read_csv('../input/vk-anekdots/anekdots_result.csv')['text']\n",
    "len(added_texts)"
   ]
  },
  {
   "cell_type": "code",
   "execution_count": 108,
   "metadata": {
    "execution": {
     "iopub.execute_input": "2024-03-19T18:44:36.969045Z",
     "iopub.status.busy": "2024-03-19T18:44:36.968549Z",
     "iopub.status.idle": "2024-03-19T18:44:37.026499Z",
     "shell.execute_reply": "2024-03-19T18:44:37.025320Z",
     "shell.execute_reply.started": "2024-03-19T18:44:36.969012Z"
    },
    "trusted": true
   },
   "outputs": [
    {
     "data": {
      "text/html": [
       "<div>\n",
       "<style scoped>\n",
       "    .dataframe tbody tr th:only-of-type {\n",
       "        vertical-align: middle;\n",
       "    }\n",
       "\n",
       "    .dataframe tbody tr th {\n",
       "        vertical-align: top;\n",
       "    }\n",
       "\n",
       "    .dataframe thead th {\n",
       "        text-align: right;\n",
       "    }\n",
       "</style>\n",
       "<table border=\"1\" class=\"dataframe\">\n",
       "  <thead>\n",
       "    <tr style=\"text-align: right;\">\n",
       "      <th></th>\n",
       "      <th>text</th>\n",
       "    </tr>\n",
       "  </thead>\n",
       "  <tbody>\n",
       "    <tr>\n",
       "      <th>0</th>\n",
       "      <td>На суде в Стамбуле обвиняемый сказал:\\r\\n- На...</td>\n",
       "    </tr>\n",
       "    <tr>\n",
       "      <th>1</th>\n",
       "      <td>- Вы продолжаете утверждать, что обвиняемый н...</td>\n",
       "    </tr>\n",
       "    <tr>\n",
       "      <th>2</th>\n",
       "      <td>На суде.\\r\\n- Итак, когда дело дошло до столкн...</td>\n",
       "    </tr>\n",
       "    <tr>\n",
       "      <th>3</th>\n",
       "      <td>Старую леди сбил автомобиль. На суде ее спраши...</td>\n",
       "    </tr>\n",
       "    <tr>\n",
       "      <th>4</th>\n",
       "      <td>Судья говорит:\\r\\n- Согласно вашей жалобе, об...</td>\n",
       "    </tr>\n",
       "    <tr>\n",
       "      <th>...</th>\n",
       "      <td>...</td>\n",
       "    </tr>\n",
       "    <tr>\n",
       "      <th>363882</th>\n",
       "      <td>Это абсолютно реальная история, которую расска...</td>\n",
       "    </tr>\n",
       "    <tr>\n",
       "      <th>363883</th>\n",
       "      <td>В один престижный бутик заходит блондинистая к...</td>\n",
       "    </tr>\n",
       "    <tr>\n",
       "      <th>363884</th>\n",
       "      <td>Маршрутка. Заходит бабулька божий одуванчик. П...</td>\n",
       "    </tr>\n",
       "    <tr>\n",
       "      <th>363885</th>\n",
       "      <td>И чего только пьяному человеку в голову не при...</td>\n",
       "    </tr>\n",
       "    <tr>\n",
       "      <th>363886</th>\n",
       "      <td>Мой друг входит в топ-менеджмент одного банка....</td>\n",
       "    </tr>\n",
       "  </tbody>\n",
       "</table>\n",
       "<p>363887 rows × 1 columns</p>\n",
       "</div>"
      ],
      "text/plain": [
       "                                                     text\n",
       "0       На суде в Стамбуле обвиняемый сказал:\\r\\n- На...\n",
       "1       - Вы продолжаете утверждать, что обвиняемый н...\n",
       "2       На суде.\\r\\n- Итак, когда дело дошло до столкн...\n",
       "3       Старую леди сбил автомобиль. На суде ее спраши...\n",
       "4       Судья говорит:\\r\\n- Согласно вашей жалобе, об...\n",
       "...                                                   ...\n",
       "363882  Это абсолютно реальная история, которую расска...\n",
       "363883  В один престижный бутик заходит блондинистая к...\n",
       "363884  Маршрутка. Заходит бабулька божий одуванчик. П...\n",
       "363885  И чего только пьяному человеку в голову не при...\n",
       "363886  Мой друг входит в топ-менеджмент одного банка....\n",
       "\n",
       "[363887 rows x 1 columns]"
      ]
     },
     "execution_count": 108,
     "metadata": {},
     "output_type": "execute_result"
    }
   ],
   "source": [
    "data = pd.concat([texts, added_texts], axis=0).reset_index().drop('index', axis=1)\n",
    "data"
   ]
  },
  {
   "cell_type": "code",
   "execution_count": 109,
   "metadata": {
    "execution": {
     "iopub.execute_input": "2024-03-19T18:44:39.274638Z",
     "iopub.status.busy": "2024-03-19T18:44:39.273938Z",
     "iopub.status.idle": "2024-03-19T18:44:39.580005Z",
     "shell.execute_reply": "2024-03-19T18:44:39.578681Z",
     "shell.execute_reply.started": "2024-03-19T18:44:39.274601Z"
    },
    "trusted": true
   },
   "outputs": [],
   "source": [
    "str_lenghts = data['text'].str.len()"
   ]
  },
  {
   "cell_type": "code",
   "execution_count": 110,
   "metadata": {
    "execution": {
     "iopub.execute_input": "2024-03-19T18:44:40.499159Z",
     "iopub.status.busy": "2024-03-19T18:44:40.498763Z",
     "iopub.status.idle": "2024-03-19T18:44:47.130359Z",
     "shell.execute_reply": "2024-03-19T18:44:47.129371Z",
     "shell.execute_reply.started": "2024-03-19T18:44:40.499131Z"
    },
    "trusted": true
   },
   "outputs": [
    {
     "name": "stderr",
     "output_type": "stream",
     "text": [
      "/opt/conda/lib/python3.10/site-packages/seaborn/_oldcore.py:1119: FutureWarning: use_inf_as_na option is deprecated and will be removed in a future version. Convert inf values to NaN before operating instead.\n",
      "  with pd.option_context('mode.use_inf_as_na', True):\n"
     ]
    },
    {
     "data": {
      "image/png": "[encoded data removed]",
      "text/plain": [
       "<Figure size 1000x500 with 1 Axes>"
      ]
     },
     "metadata": {},
     "output_type": "display_data"
    }
   ],
   "source": [
    "fig, ax = plt.subplots(1, 1, figsize=(10, 5))\n",
    "ax.set_xlim(0, 1000)\n",
    "ax.set_xlabel('text_length')\n",
    "sns.histplot(str_lenghts, ax=ax)\n",
    "plt.show()"
   ]
  },
  {
   "cell_type": "code",
   "execution_count": 111,
   "metadata": {
    "execution": {
     "iopub.execute_input": "2024-03-19T18:44:49.662880Z",
     "iopub.status.busy": "2024-03-19T18:44:49.662390Z",
     "iopub.status.idle": "2024-03-19T18:44:49.677788Z",
     "shell.execute_reply": "2024-03-19T18:44:49.676751Z",
     "shell.execute_reply.started": "2024-03-19T18:44:49.662848Z"
    },
    "trusted": true
   },
   "outputs": [
    {
     "data": {
      "text/plain": [
       "550.0"
      ]
     },
     "execution_count": 111,
     "metadata": {},
     "output_type": "execute_result"
    }
   ],
   "source": [
    "q = str_lenghts.quantile(q=0.9)\n",
    "q"
   ]
  },
  {
   "cell_type": "code",
   "execution_count": 112,
   "metadata": {
    "execution": {
     "iopub.execute_input": "2024-03-19T18:44:51.622205Z",
     "iopub.status.busy": "2024-03-19T18:44:51.621793Z",
     "iopub.status.idle": "2024-03-19T18:44:51.628340Z",
     "shell.execute_reply": "2024-03-19T18:44:51.627225Z",
     "shell.execute_reply.started": "2024-03-19T18:44:51.622175Z"
    },
    "trusted": true
   },
   "outputs": [],
   "source": [
    "small_indexes = (str_lenghts <= q)"
   ]
  },
  {
   "cell_type": "code",
   "execution_count": 113,
   "metadata": {
    "execution": {
     "iopub.execute_input": "2024-03-19T18:44:55.899071Z",
     "iopub.status.busy": "2024-03-19T18:44:55.898535Z",
     "iopub.status.idle": "2024-03-19T18:44:55.949604Z",
     "shell.execute_reply": "2024-03-19T18:44:55.947950Z",
     "shell.execute_reply.started": "2024-03-19T18:44:55.899034Z"
    },
    "trusted": true
   },
   "outputs": [
    {
     "data": {
      "text/plain": [
       "327580"
      ]
     },
     "execution_count": 113,
     "metadata": {},
     "output_type": "execute_result"
    }
   ],
   "source": [
    "data = data[small_indexes]\n",
    "data = data.reset_index(drop=True)\n",
    "len(data)"
   ]
  },
  {
   "cell_type": "code",
   "execution_count": 114,
   "metadata": {
    "execution": {
     "iopub.execute_input": "2024-03-19T18:44:57.552320Z",
     "iopub.status.busy": "2024-03-19T18:44:57.551735Z",
     "iopub.status.idle": "2024-03-19T18:45:05.933535Z",
     "shell.execute_reply": "2024-03-19T18:45:05.932356Z",
     "shell.execute_reply.started": "2024-03-19T18:44:57.552277Z"
    },
    "trusted": true
   },
   "outputs": [],
   "source": [
    "unique_ind = data['text'].apply(lambda x: re.sub(r'[^а-яА-Я0-9]', '', x.lower())).drop_duplicates().index.values"
   ]
  },
  {
   "cell_type": "code",
   "execution_count": 115,
   "metadata": {
    "execution": {
     "iopub.execute_input": "2024-03-19T18:45:07.201721Z",
     "iopub.status.busy": "2024-03-19T18:45:07.200481Z",
     "iopub.status.idle": "2024-03-19T18:45:07.246401Z",
     "shell.execute_reply": "2024-03-19T18:45:07.245069Z",
     "shell.execute_reply.started": "2024-03-19T18:45:07.201685Z"
    },
    "trusted": true
   },
   "outputs": [
    {
     "data": {
      "text/html": [
       "<div>\n",
       "<style scoped>\n",
       "    .dataframe tbody tr th:only-of-type {\n",
       "        vertical-align: middle;\n",
       "    }\n",
       "\n",
       "    .dataframe tbody tr th {\n",
       "        vertical-align: top;\n",
       "    }\n",
       "\n",
       "    .dataframe thead th {\n",
       "        text-align: right;\n",
       "    }\n",
       "</style>\n",
       "<table border=\"1\" class=\"dataframe\">\n",
       "  <thead>\n",
       "    <tr style=\"text-align: right;\">\n",
       "      <th></th>\n",
       "      <th>text</th>\n",
       "    </tr>\n",
       "  </thead>\n",
       "  <tbody>\n",
       "    <tr>\n",
       "      <th>0</th>\n",
       "      <td>На суде в Стамбуле обвиняемый сказал:\\r\\n- На...</td>\n",
       "    </tr>\n",
       "    <tr>\n",
       "      <th>1</th>\n",
       "      <td>- Вы продолжаете утверждать, что обвиняемый н...</td>\n",
       "    </tr>\n",
       "    <tr>\n",
       "      <th>2</th>\n",
       "      <td>На суде.\\r\\n- Итак, когда дело дошло до столкн...</td>\n",
       "    </tr>\n",
       "    <tr>\n",
       "      <th>3</th>\n",
       "      <td>Старую леди сбил автомобиль. На суде ее спраши...</td>\n",
       "    </tr>\n",
       "    <tr>\n",
       "      <th>4</th>\n",
       "      <td>Судья говорит:\\r\\n- Согласно вашей жалобе, об...</td>\n",
       "    </tr>\n",
       "    <tr>\n",
       "      <th>...</th>\n",
       "      <td>...</td>\n",
       "    </tr>\n",
       "    <tr>\n",
       "      <th>321525</th>\n",
       "      <td>Позвонил друг, поделился восторгом.\\nОн себе с...</td>\n",
       "    </tr>\n",
       "    <tr>\n",
       "      <th>321526</th>\n",
       "      <td>Реальное объявление в мастерской по ремонту об...</td>\n",
       "    </tr>\n",
       "    <tr>\n",
       "      <th>321527</th>\n",
       "      <td>Не так давно предлагаю ребёнку отгадать извест...</td>\n",
       "    </tr>\n",
       "    <tr>\n",
       "      <th>321528</th>\n",
       "      <td>Лежим с женой в спальне, смотрим романтическую...</td>\n",
       "    </tr>\n",
       "    <tr>\n",
       "      <th>321529</th>\n",
       "      <td>Маршрутка. Заходит бабулька божий одуванчик. П...</td>\n",
       "    </tr>\n",
       "  </tbody>\n",
       "</table>\n",
       "<p>321530 rows × 1 columns</p>\n",
       "</div>"
      ],
      "text/plain": [
       "                                                     text\n",
       "0       На суде в Стамбуле обвиняемый сказал:\\r\\n- На...\n",
       "1       - Вы продолжаете утверждать, что обвиняемый н...\n",
       "2       На суде.\\r\\n- Итак, когда дело дошло до столкн...\n",
       "3       Старую леди сбил автомобиль. На суде ее спраши...\n",
       "4       Судья говорит:\\r\\n- Согласно вашей жалобе, об...\n",
       "...                                                   ...\n",
       "321525  Позвонил друг, поделился восторгом.\\nОн себе с...\n",
       "321526  Реальное объявление в мастерской по ремонту об...\n",
       "321527  Не так давно предлагаю ребёнку отгадать извест...\n",
       "321528  Лежим с женой в спальне, смотрим романтическую...\n",
       "321529  Маршрутка. Заходит бабулька божий одуванчик. П...\n",
       "\n",
       "[321530 rows x 1 columns]"
      ]
     },
     "execution_count": 115,
     "metadata": {},
     "output_type": "execute_result"
    }
   ],
   "source": [
    "data = data.iloc[unique_ind]\n",
    "data = data.reset_index(drop=True)\n",
    "data"
   ]
  },
  {
   "cell_type": "code",
   "execution_count": 117,
   "metadata": {
    "execution": {
     "iopub.execute_input": "2024-03-19T18:45:20.566411Z",
     "iopub.status.busy": "2024-03-19T18:45:20.565932Z",
     "iopub.status.idle": "2024-03-19T18:45:26.303579Z",
     "shell.execute_reply": "2024-03-19T18:45:26.302087Z",
     "shell.execute_reply.started": "2024-03-19T18:45:20.566378Z"
    },
    "trusted": true
   },
   "outputs": [],
   "source": [
    "data['text'] = data['text'].apply(lambda x: re.sub(r'[^\\w\\s]', ' ', x))\n",
    "data['text'] = data['text'].apply(lambda x: ' '.join(x.split()))"
   ]
  },
  {
   "cell_type": "code",
   "execution_count": 119,
   "metadata": {
    "execution": {
     "iopub.execute_input": "2024-03-19T18:45:51.121290Z",
     "iopub.status.busy": "2024-03-19T18:45:51.120854Z",
     "iopub.status.idle": "2024-03-19T18:45:53.593601Z",
     "shell.execute_reply": "2024-03-19T18:45:53.592622Z",
     "shell.execute_reply.started": "2024-03-19T18:45:51.121240Z"
    },
    "trusted": true
   },
   "outputs": [],
   "source": [
    "data['text'] = data['text'].apply(lambda x: re.sub(r'[^а-яА-Я0-9 -]', '', x.replace(',', ' ').lower()))"
   ]
  },
  {
   "cell_type": "code",
   "execution_count": 127,
   "metadata": {
    "execution": {
     "iopub.execute_input": "2024-03-19T18:47:07.387879Z",
     "iopub.status.busy": "2024-03-19T18:47:07.387427Z",
     "iopub.status.idle": "2024-03-19T18:47:07.398466Z",
     "shell.execute_reply": "2024-03-19T18:47:07.396771Z",
     "shell.execute_reply.started": "2024-03-19T18:47:07.387848Z"
    },
    "trusted": true
   },
   "outputs": [
    {
     "data": {
      "text/plain": [
       "0    на суде в стамбуле обвиняемыи сказал на свои ж...\n",
       "1    вы продолжаете утверждать что обвиняемыи назва...\n",
       "2    на суде итак когда дело дошло до столкновения ...\n",
       "3    старую леди сбил автомобиль на суде ее спрашив...\n",
       "4    судья говорит согласно вашеи жалобе обвиняемыи...\n",
       "5    на судебном заседании гражданка дроздова мы ра...\n",
       "6    драка происходила так однои рукои я схватил ег...\n",
       "7    судья свидетель вы должны говорить правду одну...\n",
       "8    судья подсудимому ну ну перестаньте волноватьс...\n",
       "9    судья спрашивает четырех индеи цев убежавших и...\n",
       "Name: text, dtype: object"
      ]
     },
     "execution_count": 127,
     "metadata": {},
     "output_type": "execute_result"
    }
   ],
   "source": [
    "data['text'].head(10)"
   ]
  },
  {
   "cell_type": "code",
   "execution_count": 128,
   "metadata": {
    "execution": {
     "iopub.execute_input": "2024-03-19T18:47:09.886427Z",
     "iopub.status.busy": "2024-03-19T18:47:09.885060Z",
     "iopub.status.idle": "2024-03-19T18:47:09.891953Z",
     "shell.execute_reply": "2024-03-19T18:47:09.890623Z",
     "shell.execute_reply.started": "2024-03-19T18:47:09.886387Z"
    },
    "trusted": true
   },
   "outputs": [],
   "source": [
    "generation_config = GenerationConfig(temperature = 1.0, max_tokens = 16,\n",
    "                                     sample_top_p = 0.1, decoding_strategy = 'top-p',\n",
    "                                     remove_special_tokens=True)"
   ]
  },
  {
   "cell_type": "code",
   "execution_count": 129,
   "metadata": {
    "execution": {
     "iopub.execute_input": "2024-03-19T18:47:55.237810Z",
     "iopub.status.busy": "2024-03-19T18:47:55.237382Z",
     "iopub.status.idle": "2024-03-19T18:48:09.433777Z",
     "shell.execute_reply": "2024-03-19T18:48:09.432213Z",
     "shell.execute_reply.started": "2024-03-19T18:47:55.237779Z"
    },
    "trusted": true
   },
   "outputs": [],
   "source": [
    "tokenizer = Tokenizer().build_vocab(data['text'])"
   ]
  },
  {
   "cell_type": "code",
   "execution_count": 166,
   "metadata": {
    "execution": {
     "iopub.execute_input": "2024-03-19T19:03:36.323568Z",
     "iopub.status.busy": "2024-03-19T19:03:36.323105Z",
     "iopub.status.idle": "2024-03-19T19:04:17.242066Z",
     "shell.execute_reply": "2024-03-19T19:04:17.240769Z",
     "shell.execute_reply.started": "2024-03-19T19:03:36.323540Z"
    },
    "trusted": true
   },
   "outputs": [
    {
     "data": {
      "application/vnd.jupyter.widget-view+json": {
       "model_id": "07ba1c62f09648559bd08019d6c0dec7",
       "version_major": 2,
       "version_minor": 0
      },
      "text/plain": [
       "train lines:   0%|          | 0/321530 [00:00<?, ?it/s]"
      ]
     },
     "metadata": {},
     "output_type": "display_data"
    }
   ],
   "source": [
    "stat_lm = StatLM(tokenizer, context_size=3, alpha=0.001)\n",
    "stat_lm.train(data['text'])"
   ]
  },
  {
   "cell_type": "code",
   "execution_count": 150,
   "metadata": {
    "execution": {
     "iopub.execute_input": "2024-03-19T18:58:11.668996Z",
     "iopub.status.busy": "2024-03-19T18:58:11.668510Z",
     "iopub.status.idle": "2024-03-19T18:58:11.675368Z",
     "shell.execute_reply": "2024-03-19T18:58:11.674240Z",
     "shell.execute_reply.started": "2024-03-19T18:58:11.668957Z"
    },
    "trusted": true
   },
   "outputs": [],
   "source": [
    "test_data = [\n",
    "    'встретились как-то русский и американец',\n",
    "    'сидит штирлиц в засаде',\n",
    "    'приехала как-то теща в гости',\n",
    "    'говорит чебурашка гене',\n",
    "    'что общего между евреем и'\n",
    "]"
   ]
  },
  {
   "cell_type": "code",
   "execution_count": 151,
   "metadata": {
    "execution": {
     "iopub.execute_input": "2024-03-19T18:58:17.555417Z",
     "iopub.status.busy": "2024-03-19T18:58:17.554919Z",
     "iopub.status.idle": "2024-03-19T18:58:48.381720Z",
     "shell.execute_reply": "2024-03-19T18:58:48.379729Z",
     "shell.execute_reply.started": "2024-03-19T18:58:17.555383Z"
    },
    "trusted": true
   },
   "outputs": [
    {
     "name": "stdout",
     "output_type": "stream",
     "text": [
      "q0: встретились как то русский и американец попали в ад а черти то чем я могу\n",
      "q1: сидит штирлиц в засаде на лыжне типун протеряешь пнешь вовочкинои шлифуем продвинутых потрохами заструился пргер изучающая\n",
      "q2: приехала как то теща в гости к своему другу в гости к своему другу в\n",
      "q3: говорит чебурашка гене ген а ген а ген а ген а ген а ген а ген\n",
      "q4: что общего между евреем и неглупым человеком а этот лексус уже был помятый и кот это\n"
     ]
    }
   ],
   "source": [
    "for i, test in enumerate(test_data):\n",
    "    ans = stat_lm.generate(test, generation_config)\n",
    "    print(f'q{i}: {ans}')"
   ]
  },
  {
   "cell_type": "code",
   "execution_count": 152,
   "metadata": {
    "execution": {
     "iopub.execute_input": "2024-03-19T18:58:53.908405Z",
     "iopub.status.busy": "2024-03-19T18:58:53.907895Z",
     "iopub.status.idle": "2024-03-19T18:58:53.916330Z",
     "shell.execute_reply": "2024-03-19T18:58:53.914146Z",
     "shell.execute_reply.started": "2024-03-19T18:58:53.908370Z"
    },
    "trusted": true
   },
   "outputs": [],
   "source": [
    "generation_config = GenerationConfig(temperature = 0.1, max_tokens = 16,\n",
    "                                     sample_top_p = 0.1, decoding_strategy = 'top-p',\n",
    "                                     remove_special_tokens=True)"
   ]
  },
  {
   "cell_type": "code",
   "execution_count": 153,
   "metadata": {
    "execution": {
     "iopub.execute_input": "2024-03-19T18:59:01.158740Z",
     "iopub.status.busy": "2024-03-19T18:59:01.158219Z",
     "iopub.status.idle": "2024-03-19T18:59:32.631834Z",
     "shell.execute_reply": "2024-03-19T18:59:32.630413Z",
     "shell.execute_reply.started": "2024-03-19T18:59:01.158706Z"
    },
    "trusted": true
   },
   "outputs": [
    {
     "name": "stdout",
     "output_type": "stream",
     "text": [
      "q0: встретились как то русский и американец американец спокойствие регэкспов полста вилли мыв посодють прибрана больны\n",
      "q1: сидит штирлиц в засаде сидел глобусы обеспеченнои многоэтажка кланая сестрнки выугали радикальное правообладателя вступаешь медным шестеренка\n",
      "q2: приехала как то теща в гости к другу и вместо баллончика тютелька природноочаговое возводим форматироваться\n",
      "q3: говорит чебурашка гене выныривая секретнаая миля тождественныи виникають приятнве напасусь душевными прокаченныи гликозид проешь пашне применяться\n",
      "q4: что общего между евреем и засосет учинил рекордсменке слабовато разрываем куто ладанка стаости четвэрг лечебном выделишь\n"
     ]
    }
   ],
   "source": [
    "for i, test in enumerate(test_data):\n",
    "    ans = stat_lm.generate(test, generation_config)\n",
    "    print(f'q{i}: {ans}')"
   ]
  },
  {
   "cell_type": "code",
   "execution_count": 155,
   "metadata": {
    "execution": {
     "iopub.execute_input": "2024-03-19T18:59:40.109105Z",
     "iopub.status.busy": "2024-03-19T18:59:40.108656Z",
     "iopub.status.idle": "2024-03-19T18:59:40.115719Z",
     "shell.execute_reply": "2024-03-19T18:59:40.114133Z",
     "shell.execute_reply.started": "2024-03-19T18:59:40.109075Z"
    },
    "trusted": true
   },
   "outputs": [],
   "source": [
    "generation_config = GenerationConfig(temperature = 0.1, max_tokens = 16,\n",
    "                                     sample_top_p = 0.05, decoding_strategy = 'top-p',\n",
    "                                     remove_special_tokens=True)"
   ]
  },
  {
   "cell_type": "code",
   "execution_count": 156,
   "metadata": {
    "execution": {
     "iopub.execute_input": "2024-03-19T18:59:42.394606Z",
     "iopub.status.busy": "2024-03-19T18:59:42.393107Z",
     "iopub.status.idle": "2024-03-19T19:00:13.224437Z",
     "shell.execute_reply": "2024-03-19T19:00:13.223107Z",
     "shell.execute_reply.started": "2024-03-19T18:59:42.394562Z"
    },
    "trusted": true
   },
   "outputs": [
    {
     "name": "stdout",
     "output_type": "stream",
     "text": [
      "q0: встретились как то русский и американец попали в яму волк лиса мрачнеет кешью глобального индеец\n",
      "q1: сидит штирлиц в засаде на вовочкиным гороскопы благодушно блузке выкройки приспичело волейбол катящийся безвыходности пристойный эстонская\n",
      "q2: приехала как то теща в гости к своему другу вдруг семилетнего детныша охраняемый арнольдович даю\n",
      "q3: говорит чебурашка гене вова послов прохлопала непреклоныи актриса посочувствуют уверяла смэтана компьютерном наполняю разрывающий элитная елдастиш\n",
      "q4: что общего между евреем и армянином впасть венгерском шпилит мерзлота оккупации товарищампострадавшего 92 нокаутом потделок моряки\n"
     ]
    }
   ],
   "source": [
    "for i, test in enumerate(test_data):\n",
    "    ans = stat_lm.generate(test, generation_config)\n",
    "    print(f'q{i}: {ans}')"
   ]
  },
  {
   "cell_type": "code",
   "execution_count": 158,
   "metadata": {
    "execution": {
     "iopub.execute_input": "2024-03-19T19:00:25.862086Z",
     "iopub.status.busy": "2024-03-19T19:00:25.861637Z",
     "iopub.status.idle": "2024-03-19T19:00:25.869615Z",
     "shell.execute_reply": "2024-03-19T19:00:25.867869Z",
     "shell.execute_reply.started": "2024-03-19T19:00:25.862053Z"
    },
    "trusted": true
   },
   "outputs": [],
   "source": [
    "generation_config = GenerationConfig(temperature = 0.1, max_tokens = 16,\n",
    "                                     sample_top_p = 0.01, decoding_strategy = 'top-p',\n",
    "                                     remove_special_tokens=True)"
   ]
  },
  {
   "cell_type": "code",
   "execution_count": 159,
   "metadata": {
    "execution": {
     "iopub.execute_input": "2024-03-19T19:00:27.404528Z",
     "iopub.status.busy": "2024-03-19T19:00:27.404064Z",
     "iopub.status.idle": "2024-03-19T19:00:56.964366Z",
     "shell.execute_reply": "2024-03-19T19:00:56.963227Z",
     "shell.execute_reply.started": "2024-03-19T19:00:27.404496Z"
    },
    "trusted": true
   },
   "outputs": [
    {
     "name": "stdout",
     "output_type": "stream",
     "text": [
      "q0: встретились как то русский и американец попали в ад а черти то бедные бешеные привязанным\n",
      "q1: сидит штирлиц в засаде на лыжне олимп глубинная шабл сказавший молотком4 допиздишься загоню изврашенец благодушно кирпич\n",
      "q2: приехала как то теща в гости к своему другу в гости к своему другу в\n",
      "q3: говорит чебурашка гене ген а ген а ген а ген а ген а ген а ген\n",
      "q4: что общего между евреем и проживающем голосит неприятности элвису фурия ухмылялось кодовым неимущим подслушанныи ангелочки монсерат\n"
     ]
    }
   ],
   "source": [
    "for i, test in enumerate(test_data):\n",
    "    ans = stat_lm.generate(test, generation_config)\n",
    "    print(f'q{i}: {ans}')"
   ]
  },
  {
   "cell_type": "code",
   "execution_count": 161,
   "metadata": {
    "execution": {
     "iopub.execute_input": "2024-03-19T19:01:06.205064Z",
     "iopub.status.busy": "2024-03-19T19:01:06.204648Z",
     "iopub.status.idle": "2024-03-19T19:01:06.211021Z",
     "shell.execute_reply": "2024-03-19T19:01:06.209938Z",
     "shell.execute_reply.started": "2024-03-19T19:01:06.205033Z"
    },
    "trusted": true
   },
   "outputs": [],
   "source": [
    "generation_config = GenerationConfig(temperature = 1, max_tokens = 16,\n",
    "                                     sample_top_p = 0.01, decoding_strategy = 'top-p',\n",
    "                                     remove_special_tokens=True)"
   ]
  },
  {
   "cell_type": "code",
   "execution_count": 162,
   "metadata": {
    "execution": {
     "iopub.execute_input": "2024-03-19T19:01:07.593018Z",
     "iopub.status.busy": "2024-03-19T19:01:07.592582Z",
     "iopub.status.idle": "2024-03-19T19:01:38.411597Z",
     "shell.execute_reply": "2024-03-19T19:01:38.410178Z",
     "shell.execute_reply.started": "2024-03-19T19:01:07.592987Z"
    },
    "trusted": true
   },
   "outputs": [
    {
     "name": "stdout",
     "output_type": "stream",
     "text": [
      "q0: встретились как то русский и американец попали в ад а черти в котел ее а\n",
      "q1: сидит штирлиц в засаде на углу улицы стоит нищий с хуические хиба долговременное разошлась табачному пилять\n",
      "q2: приехала как то теща в гости к своему другу в гости к своему другу в\n",
      "q3: говорит чебурашка гене а даваи те я вам не стыдно вы сорок лет водил моисей евреев\n",
      "q4: что общего между евреем и неглупым крепкости бодрит шагов поговорит прижатой амеиканская паи полисмена дуреют рно\n"
     ]
    }
   ],
   "source": [
    "for i, test in enumerate(test_data):\n",
    "    ans = stat_lm.generate(test, generation_config)\n",
    "    print(f'q{i}: {ans}')"
   ]
  },
  {
   "cell_type": "code",
   "execution_count": 179,
   "metadata": {
    "execution": {
     "iopub.execute_input": "2024-03-19T19:12:19.264320Z",
     "iopub.status.busy": "2024-03-19T19:12:19.263874Z",
     "iopub.status.idle": "2024-03-19T19:12:19.271142Z",
     "shell.execute_reply": "2024-03-19T19:12:19.269571Z",
     "shell.execute_reply.started": "2024-03-19T19:12:19.264290Z"
    },
    "trusted": true
   },
   "outputs": [],
   "source": [
    "generation_config = GenerationConfig(temperature = 2, max_tokens = 16,\n",
    "                                     sample_top_p = 0.012, decoding_strategy = 'top-p',\n",
    "                                     remove_special_tokens=True)"
   ]
  },
  {
   "cell_type": "code",
   "execution_count": 180,
   "metadata": {
    "execution": {
     "iopub.execute_input": "2024-03-19T19:12:20.746587Z",
     "iopub.status.busy": "2024-03-19T19:12:20.746154Z",
     "iopub.status.idle": "2024-03-19T19:12:50.604024Z",
     "shell.execute_reply": "2024-03-19T19:12:50.602939Z",
     "shell.execute_reply.started": "2024-03-19T19:12:20.746557Z"
    },
    "trusted": true
   },
   "outputs": [
    {
     "name": "stdout",
     "output_type": "stream",
     "text": [
      "q0: встретились как то русский и американец попали в ад а черти то бедные в рекрутеры\n",
      "q1: сидит штирлиц в засаде на проспекте гагарина такая намордника накидаться неимущим групповухой исчезнете ваааах перебрала кормильцу\n",
      "q2: приехала как то теща в гости к своему другу в гости к своему другу в\n",
      "q3: говорит чебурашка гене а даваи те я вам не стыдно вы сорок лет водил моисей евреев\n",
      "q4: что общего между евреем и неглупым человеком а этот лексус уже был помятый и кот это\n"
     ]
    }
   ],
   "source": [
    "for i, test in enumerate(test_data):\n",
    "    ans = stat_lm.generate(test, generation_config)\n",
    "    print(f'q{i}: {ans}')"
   ]
  },
  {
   "cell_type": "code",
   "execution_count": 218,
   "metadata": {
    "execution": {
     "iopub.execute_input": "2024-03-19T19:25:37.595953Z",
     "iopub.status.busy": "2024-03-19T19:25:37.595540Z",
     "iopub.status.idle": "2024-03-19T19:25:37.601673Z",
     "shell.execute_reply": "2024-03-19T19:25:37.600217Z",
     "shell.execute_reply.started": "2024-03-19T19:25:37.595922Z"
    },
    "trusted": true
   },
   "outputs": [],
   "source": [
    "generation_config = GenerationConfig(temperature = 2.1, max_tokens = 16,\n",
    "                                     sample_top_p = 0.0129, decoding_strategy = 'top-p',\n",
    "                                     remove_special_tokens=True)"
   ]
  },
  {
   "cell_type": "code",
   "execution_count": 219,
   "metadata": {
    "execution": {
     "iopub.execute_input": "2024-03-19T19:25:38.634943Z",
     "iopub.status.busy": "2024-03-19T19:25:38.634555Z",
     "iopub.status.idle": "2024-03-19T19:26:06.926060Z",
     "shell.execute_reply": "2024-03-19T19:26:06.924311Z",
     "shell.execute_reply.started": "2024-03-19T19:25:38.634916Z"
    },
    "trusted": true
   },
   "outputs": [
    {
     "name": "stdout",
     "output_type": "stream",
     "text": [
      "q0: встретились как то русский и американец попали в ад а черти то бедные в холодильнике\n",
      "q1: сидит штирлиц в засаде на углу улицы стоит нищий сапожков скромничаи расшарил красавцев гейшей доме плоскостопсть\n",
      "q2: приехала как то теща в гости к своему другу в гости к своему другу в\n",
      "q3: говорит чебурашка гене гена гена шапокляк родила что листков стынут терма бриалиантами разморозив потустронних клейковина можется\n",
      "q4: что общего между евреем и неглупым человеком абмоба зарубим хвастайся поклажей таблетку комдессю бухаешь онколога петросянизма\n"
     ]
    }
   ],
   "source": [
    "for i, test in enumerate(test_data):\n",
    "    ans = stat_lm.generate(test, generation_config)\n",
    "    print(f'q{i}: {ans}')"
   ]
  },
  {
   "cell_type": "code",
   "execution_count": 221,
   "metadata": {
    "execution": {
     "iopub.execute_input": "2024-03-19T19:26:44.834180Z",
     "iopub.status.busy": "2024-03-19T19:26:44.833674Z",
     "iopub.status.idle": "2024-03-19T19:26:50.238574Z",
     "shell.execute_reply": "2024-03-19T19:26:50.237343Z",
     "shell.execute_reply.started": "2024-03-19T19:26:44.834145Z"
    },
    "trusted": true
   },
   "outputs": [
    {
     "data": {
      "text/plain": [
       "True"
      ]
     },
     "execution_count": 221,
     "metadata": {},
     "output_type": "execute_result"
    }
   ],
   "source": [
    "tokenizer.save('tokenizer.pkl')\n",
    "stat_lm.save_stat('stat_lm.pkl')"
   ]
  }
 ],
 "metadata": {
  "kaggle": {
   "accelerator": "none",
   "dataSources": [
    {
     "datasetId": 1697417,
     "sourceId": 2780478,
     "sourceType": "datasetVersion"
    },
    {
     "datasetId": 4589730,
     "sourceId": 7888445,
     "sourceType": "datasetVersion"
    }
   ],
   "dockerImageVersionId": 30664,
   "isGpuEnabled": false,
   "isInternetEnabled": true,
   "language": "python",
   "sourceType": "notebook"
  },
  "kernelspec": {
   "display_name": "Python 3",
   "language": "python",
   "name": "python3"
  },
  "language_info": {
   "codemirror_mode": {
    "name": "ipython",
    "version": 3
   },
   "file_extension": ".py",
   "mimetype": "text/x-python",
   "name": "python",
   "nbconvert_exporter": "python",
   "pygments_lexer": "ipython3",
   "version": "3.10.13"
  }
 },
 "nbformat": 4,
 "nbformat_minor": 4
}
